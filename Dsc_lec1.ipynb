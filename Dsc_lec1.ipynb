{
  "nbformat": 4,
  "nbformat_minor": 0,
  "metadata": {
    "colab": {
      "provenance": [],
      "mount_file_id": "1GB_LhYPur_DSWRkFByi8fS7WNjzHx6fN",
      "authorship_tag": "ABX9TyOA51N+V0QK7kd8FtaaHyrK",
      "include_colab_link": true
    },
    "kernelspec": {
      "name": "python3",
      "display_name": "Python 3"
    },
    "language_info": {
      "name": "python"
    }
  },
  "cells": [
    {
      "cell_type": "markdown",
      "metadata": {
        "id": "view-in-github",
        "colab_type": "text"
      },
      "source": [
        "<a href=\"https://colab.research.google.com/github/MartinAshaba/FINAL-ENG-GROUP-29/blob/main/Dsc_lec1.ipynb\" target=\"_parent\"><img src=\"https://colab.research.google.com/assets/colab-badge.svg\" alt=\"Open In Colab\"/></a>"
      ]
    },
    {
      "cell_type": "code",
      "execution_count": 1,
      "metadata": {
        "id": "8e5dX8owOR8u",
        "colab": {
          "base_uri": "https://localhost:8080/"
        },
        "outputId": "4513c9d1-01b5-4c47-e6a6-0b9fabae6823"
      },
      "outputs": [
        {
          "output_type": "stream",
          "name": "stdout",
          "text": [
            "hello world\n"
          ]
        }
      ],
      "source": [
        "print(\"hello world\") #hh"
      ]
    },
    {
      "cell_type": "markdown",
      "source": [
        "*Intro to Data Science*"
      ],
      "metadata": {
        "id": "QAD55hliRr9r"
      }
    },
    {
      "cell_type": "code",
      "source": [
        "print(\"Data Science\")"
      ],
      "metadata": {
        "colab": {
          "base_uri": "https://localhost:8080/"
        },
        "id": "Q2z3FzBBQh9c",
        "outputId": "a1a929f9-e505-46b6-a68c-7a3373173fc3"
      },
      "execution_count": 2,
      "outputs": [
        {
          "output_type": "stream",
          "name": "stdout",
          "text": [
            "Data Science\n"
          ]
        }
      ]
    },
    {
      "cell_type": "code",
      "source": [],
      "metadata": {
        "id": "-juGopNlWsfs"
      },
      "execution_count": null,
      "outputs": []
    },
    {
      "cell_type": "markdown",
      "source": [
        "Today"
      ],
      "metadata": {
        "id": "xhc2YUbjRokz"
      }
    }
  ]
}